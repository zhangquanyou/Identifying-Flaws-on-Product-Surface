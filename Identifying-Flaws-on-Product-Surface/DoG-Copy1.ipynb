{
 "cells": [
  {
   "cell_type": "code",
   "execution_count": 1,
   "metadata": {},
   "outputs": [
    {
     "ename": "FileNotFoundError",
     "evalue": "[Errno 2] No such file or directory: './img/1.jpg'",
     "output_type": "error",
     "traceback": [
      "\u001b[1;31m---------------------------------------------------------------------------\u001b[0m",
      "\u001b[1;31mFileNotFoundError\u001b[0m                         Traceback (most recent call last)",
      "\u001b[1;32m<ipython-input-1-7dedb8000e47>\u001b[0m in \u001b[0;36m<module>\u001b[1;34m\u001b[0m\n\u001b[0;32m     44\u001b[0m                         [0,1,1,2,2,2,1,1,0]]])\n\u001b[0;32m     45\u001b[0m \u001b[0mwindow_size\u001b[0m \u001b[1;33m=\u001b[0m \u001b[1;36m9\u001b[0m\u001b[1;33m\u001b[0m\u001b[1;33m\u001b[0m\u001b[0m\n\u001b[1;32m---> 46\u001b[1;33m \u001b[0mimg\u001b[0m \u001b[1;33m=\u001b[0m \u001b[0mImage\u001b[0m\u001b[1;33m.\u001b[0m\u001b[0mopen\u001b[0m\u001b[1;33m(\u001b[0m\u001b[1;34m\"./img/1.jpg\"\u001b[0m\u001b[1;33m)\u001b[0m\u001b[1;33m\u001b[0m\u001b[1;33m\u001b[0m\u001b[0m\n\u001b[0m\u001b[0;32m     47\u001b[0m \u001b[0mimg\u001b[0m \u001b[1;33m=\u001b[0m \u001b[0mimg\u001b[0m\u001b[1;33m.\u001b[0m\u001b[0mconvert\u001b[0m\u001b[1;33m(\u001b[0m\u001b[1;34m'L'\u001b[0m\u001b[1;33m)\u001b[0m\u001b[1;33m\u001b[0m\u001b[1;33m\u001b[0m\u001b[0m\n\u001b[0;32m     48\u001b[0m \u001b[0mLoG\u001b[0m\u001b[1;33m(\u001b[0m\u001b[0mimg\u001b[0m\u001b[1;33m,\u001b[0m\u001b[0mwindow\u001b[0m\u001b[1;33m,\u001b[0m\u001b[0mwindow_size\u001b[0m\u001b[1;33m,\u001b[0m\u001b[0mimg\u001b[0m\u001b[1;33m.\u001b[0m\u001b[0mmode\u001b[0m\u001b[1;33m)\u001b[0m\u001b[1;33m\u001b[0m\u001b[1;33m\u001b[0m\u001b[0m\n",
      "\u001b[1;32mc:\\python38\\lib\\site-packages\\PIL\\Image.py\u001b[0m in \u001b[0;36mopen\u001b[1;34m(fp, mode, formats)\u001b[0m\n\u001b[0;32m   2889\u001b[0m \u001b[1;33m\u001b[0m\u001b[0m\n\u001b[0;32m   2890\u001b[0m     \u001b[1;32mif\u001b[0m \u001b[0mfilename\u001b[0m\u001b[1;33m:\u001b[0m\u001b[1;33m\u001b[0m\u001b[1;33m\u001b[0m\u001b[0m\n\u001b[1;32m-> 2891\u001b[1;33m         \u001b[0mfp\u001b[0m \u001b[1;33m=\u001b[0m \u001b[0mbuiltins\u001b[0m\u001b[1;33m.\u001b[0m\u001b[0mopen\u001b[0m\u001b[1;33m(\u001b[0m\u001b[0mfilename\u001b[0m\u001b[1;33m,\u001b[0m \u001b[1;34m\"rb\"\u001b[0m\u001b[1;33m)\u001b[0m\u001b[1;33m\u001b[0m\u001b[1;33m\u001b[0m\u001b[0m\n\u001b[0m\u001b[0;32m   2892\u001b[0m         \u001b[0mexclusive_fp\u001b[0m \u001b[1;33m=\u001b[0m \u001b[1;32mTrue\u001b[0m\u001b[1;33m\u001b[0m\u001b[1;33m\u001b[0m\u001b[0m\n\u001b[0;32m   2893\u001b[0m \u001b[1;33m\u001b[0m\u001b[0m\n",
      "\u001b[1;31mFileNotFoundError\u001b[0m: [Errno 2] No such file or directory: './img/1.jpg'"
     ]
    }
   ],
   "source": [
    "import torch\n",
    "import torch.nn.functional as F\n",
    "import numpy as np\n",
    "\n",
    "from torch.autograd import Variable\n",
    "from math import exp\n",
    "from PIL import Image\n",
    "from torchvision.utils import save_image, make_grid\n",
    "\n",
    "\n",
    "def minmaxscaler(data):\n",
    "    min = torch.min(data)\n",
    "    max = torch.max(data)    \n",
    "    return (data - min)/(max-min)\n",
    "\n",
    "\n",
    "def LoG(img,window,window_size,mode=\"RGB\"):\n",
    "    img1_array = np.array(img,dtype=np.float32)#Image -> array\n",
    "    img1_tensor = torch.from_numpy(img1_array)# array -> tensor\n",
    "\n",
    "    if mode == 'L':\n",
    "        img1_tensor = img1_tensor.unsqueeze(0).unsqueeze(0)#h,w -> n,c,h,w \n",
    "    else:#RGB or RGBA\n",
    "        img1_tensor = img1_tensor.permute(2,0,1)# h,w,c -> c,h,w \n",
    "        img1_tensor = img1_tensor.unsqueeze(0)#c,h,w -> n,c,h,w \n",
    "    channel = img1_tensor.size()[1]\n",
    "    window = Variable(window.expand(channel, 1, window_size, window_size).contiguous())\n",
    "    output = F.conv2d(img1_tensor, window, padding = window_size//2, groups = channel)\n",
    "    output = minmaxscaler(output)# \n",
    "    if (channel==4):\n",
    "        save_image(output, \"./img/output.png\", normalize=False)\n",
    "    else:\n",
    "        save_image(output, \"./img/output.jpg\", normalize=False)\n",
    "    return output\n",
    "\n",
    "window  = torch.Tensor([[[0,1,1,2,2,2,1,1,0],\n",
    "                        [1,2,4,5,5,5,4,2,1],\n",
    "                        [1,4,5,3,0,3,5,4,1],\n",
    "                        [2,5,3,-12,-24,-12,3,5,2],\n",
    "                        [2,5,0,-24,-40,-24,0,5,2],\n",
    "                        [2,5,3,-12,-24,-12,3,5,2],\n",
    "                        [1,4,5,3,0,3,4,4,1],\n",
    "                        [1,2,4,5,5,5,4,2,1],\n",
    "                        [0,1,1,2,2,2,1,1,0]]])\n",
    "window_size = 9\n",
    "img = Image.open(\"./img/1.jpg\")\n",
    "img = img.convert('L') \n",
    "LoG(img,window,window_size,img.mode)"
   ]
  }
 ],
 "metadata": {
  "kernelspec": {
   "display_name": "Python 3",
   "language": "python",
   "name": "python3"
  },
  "language_info": {
   "codemirror_mode": {
    "name": "ipython",
    "version": 3
   },
   "file_extension": ".py",
   "mimetype": "text/x-python",
   "name": "python",
   "nbconvert_exporter": "python",
   "pygments_lexer": "ipython3",
   "version": "3.8.5"
  }
 },
 "nbformat": 4,
 "nbformat_minor": 4
}
